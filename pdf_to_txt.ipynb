{
 "cells": [
  {
   "cell_type": "code",
   "execution_count": 1,
   "id": "8295d172",
   "metadata": {},
   "outputs": [],
   "source": [
    "import fitz\n",
    "from glob import *\n",
    "import os\n",
    "import pdfplumber\n",
    "import time\n",
    "from tqdm.notebook import tqdm"
   ]
  },
  {
   "cell_type": "code",
   "execution_count": 2,
   "id": "c24d731a",
   "metadata": {},
   "outputs": [
    {
     "data": {
      "text/plain": [
       "(['G:\\\\Esp-mission-Patrimoine\\\\documentLibrary\\\\Habitat_Amenagement\\\\OBSERVATOIRE\\\\02_ACTIVITES\\\\ETUDES\\\\ETUDES_ADIL\\\\NOTES\\\\29_Loyers_2024.pdf',\n",
       "  'G:\\\\Esp-mission-Patrimoine\\\\documentLibrary\\\\Habitat_Amenagement\\\\OBSERVATOIRE\\\\02_ACTIVITES\\\\ETUDES\\\\ETUDES_ADIL\\\\NOTES\\\\30_airbnb_DIAG_2024.pdf'],\n",
       " ['29_Loyers_2024', '30_airbnb_DIAG_2024'],\n",
       " [29, 30])"
      ]
     },
     "execution_count": 2,
     "metadata": {},
     "output_type": "execute_result"
    }
   ],
   "source": [
    "PATH_NOTES = r\"G:\\Esp-mission-Patrimoine\\documentLibrary\\Habitat_Amenagement\\OBSERVATOIRE\\02_ACTIVITES\\ETUDES\\ETUDES_ADIL\\NOTES\"\n",
    "chemin_notes = sorted(glob(PATH_NOTES + r\"\\*.pdf\", ), key=lambda x: int(x.split(\"\\\\\")[-1].split(\"_\")[0]))\n",
    "# Pour le moment\n",
    "chemin_notes.remove('G:\\\\Esp-mission-Patrimoine\\\\documentLibrary\\\\Habitat_Amenagement\\\\OBSERVATOIRE\\\\02_ACTIVITES\\\\ETUDES\\\\ETUDES_ADIL\\\\NOTES\\\\30_airbnb_JURIDIQUE_2024.pdf')\n",
    "nom_notes = [chemin.split('\\\\')[-1].split('.')[0] for chemin in chemin_notes]\n",
    "numero_notes = [int(chemin.split('\\\\')[-1].split(\"_\")[0]) for chemin in chemin_notes]\n",
    "chemin_notes[-2:], nom_notes[-2:], numero_notes[-2:]"
   ]
  },
  {
   "cell_type": "code",
   "execution_count": 3,
   "id": "100562e2",
   "metadata": {},
   "outputs": [],
   "source": [
    "def remove_occurences_3(text):\n",
    "    text_copy = text\n",
    "    li = []\n",
    "    # Trouve les suites de charactères à 3 occurences et rajoute les indices dans li (pas le premier)\n",
    "    for i, _ in enumerate(text_copy[:-2]):\n",
    "        if text_copy[i:i+3] == text_copy[i]*3:\n",
    "            j=1\n",
    "            while text_copy[i+j] == text_copy[i]:\n",
    "                j += 1\n",
    "                li.append(i+j-1)\n",
    "\n",
    "    # Supprime les indices qui sont au milieu d'une suite\n",
    "    lb = set(li)\n",
    "    for el in set(li):\n",
    "        if el + 1 in set(li) and el - 1 in set(li):\n",
    "            lb.remove(el)\n",
    "\n",
    "    # Supprime les suites\n",
    "    lc = sorted(list(lb))\n",
    "    for i in range(0, len(lc), 2):\n",
    "        text_copy = text_copy.replace(text[lc[i]:lc[i+1]+1], '')\n",
    "        # print(text[lc[i]:lc[i+1]+1], 'remplacée par \"\"')\n",
    "    \n",
    "    return text_copy"
   ]
  },
  {
   "cell_type": "code",
   "execution_count": 4,
   "id": "b878f4a5",
   "metadata": {},
   "outputs": [
    {
     "data": {
      "application/vnd.jupyter.widget-view+json": {
       "model_id": "0bfcbb76ab754c39a5c0e2a27e7ca201",
       "version_major": 2,
       "version_minor": 0
      },
      "text/plain": [
       "Processing Notes: 0it [00:00, ?it/s]"
      ]
     },
     "metadata": {},
     "output_type": "display_data"
    },
    {
     "data": {
      "application/vnd.jupyter.widget-view+json": {
       "model_id": "5d982d87647640a4acdbd24766073af6",
       "version_major": 2,
       "version_minor": 0
      },
      "text/plain": [
       "Processing Pages: 0it [00:00, ?it/s]"
      ]
     },
     "metadata": {},
     "output_type": "display_data"
    },
    {
     "data": {
      "application/vnd.jupyter.widget-view+json": {
       "model_id": "c5161bde3a9f47d49e8ff15460c2cae5",
       "version_major": 2,
       "version_minor": 0
      },
      "text/plain": [
       "Processing Pages: 0it [00:00, ?it/s]"
      ]
     },
     "metadata": {},
     "output_type": "display_data"
    },
    {
     "data": {
      "application/vnd.jupyter.widget-view+json": {
       "model_id": "b78ac666d18d4c7191fac7f6c81976fc",
       "version_major": 2,
       "version_minor": 0
      },
      "text/plain": [
       "Processing Pages: 0it [00:00, ?it/s]"
      ]
     },
     "metadata": {},
     "output_type": "display_data"
    },
    {
     "data": {
      "application/vnd.jupyter.widget-view+json": {
       "model_id": "08a616d0b18d4e749ab7a35a368ec2d1",
       "version_major": 2,
       "version_minor": 0
      },
      "text/plain": [
       "Processing Pages: 0it [00:00, ?it/s]"
      ]
     },
     "metadata": {},
     "output_type": "display_data"
    },
    {
     "data": {
      "application/vnd.jupyter.widget-view+json": {
       "model_id": "386c1282b7104d8c87b39dcf74bb96cf",
       "version_major": 2,
       "version_minor": 0
      },
      "text/plain": [
       "Processing Pages: 0it [00:00, ?it/s]"
      ]
     },
     "metadata": {},
     "output_type": "display_data"
    },
    {
     "data": {
      "application/vnd.jupyter.widget-view+json": {
       "model_id": "54fdcef5a29746cbba4d15e0fd6a5503",
       "version_major": 2,
       "version_minor": 0
      },
      "text/plain": [
       "Processing Pages: 0it [00:00, ?it/s]"
      ]
     },
     "metadata": {},
     "output_type": "display_data"
    },
    {
     "data": {
      "application/vnd.jupyter.widget-view+json": {
       "model_id": "66d98bddad434cc598dd386d682057f1",
       "version_major": 2,
       "version_minor": 0
      },
      "text/plain": [
       "Processing Pages: 0it [00:00, ?it/s]"
      ]
     },
     "metadata": {},
     "output_type": "display_data"
    },
    {
     "data": {
      "application/vnd.jupyter.widget-view+json": {
       "model_id": "6c6e21a8b2ce44bea9b736412dcbd807",
       "version_major": 2,
       "version_minor": 0
      },
      "text/plain": [
       "Processing Pages: 0it [00:00, ?it/s]"
      ]
     },
     "metadata": {},
     "output_type": "display_data"
    },
    {
     "data": {
      "application/vnd.jupyter.widget-view+json": {
       "model_id": "ca8067a9dd2d4f25927f8924a3c3c610",
       "version_major": 2,
       "version_minor": 0
      },
      "text/plain": [
       "Processing Pages: 0it [00:00, ?it/s]"
      ]
     },
     "metadata": {},
     "output_type": "display_data"
    },
    {
     "data": {
      "application/vnd.jupyter.widget-view+json": {
       "model_id": "be56ad102e6e465b86338a6b4ed125eb",
       "version_major": 2,
       "version_minor": 0
      },
      "text/plain": [
       "Processing Pages: 0it [00:00, ?it/s]"
      ]
     },
     "metadata": {},
     "output_type": "display_data"
    },
    {
     "data": {
      "application/vnd.jupyter.widget-view+json": {
       "model_id": "79ecabac4c7944019bd1824aac210c8c",
       "version_major": 2,
       "version_minor": 0
      },
      "text/plain": [
       "Processing Pages: 0it [00:00, ?it/s]"
      ]
     },
     "metadata": {},
     "output_type": "display_data"
    },
    {
     "data": {
      "application/vnd.jupyter.widget-view+json": {
       "model_id": "56b5a6d97e9648c996d10b12ed543fca",
       "version_major": 2,
       "version_minor": 0
      },
      "text/plain": [
       "Processing Pages: 0it [00:00, ?it/s]"
      ]
     },
     "metadata": {},
     "output_type": "display_data"
    },
    {
     "data": {
      "application/vnd.jupyter.widget-view+json": {
       "model_id": "0f638f84e95045c992fd370cc1627ea5",
       "version_major": 2,
       "version_minor": 0
      },
      "text/plain": [
       "Processing Pages: 0it [00:00, ?it/s]"
      ]
     },
     "metadata": {},
     "output_type": "display_data"
    },
    {
     "data": {
      "application/vnd.jupyter.widget-view+json": {
       "model_id": "aa6fe67862cf4f338541fd047a4398be",
       "version_major": 2,
       "version_minor": 0
      },
      "text/plain": [
       "Processing Pages: 0it [00:00, ?it/s]"
      ]
     },
     "metadata": {},
     "output_type": "display_data"
    },
    {
     "data": {
      "application/vnd.jupyter.widget-view+json": {
       "model_id": "c1ff6108d2fa42b0911419cc92ccde08",
       "version_major": 2,
       "version_minor": 0
      },
      "text/plain": [
       "Processing Pages: 0it [00:00, ?it/s]"
      ]
     },
     "metadata": {},
     "output_type": "display_data"
    },
    {
     "data": {
      "application/vnd.jupyter.widget-view+json": {
       "model_id": "8797c231ef9541ed99809559159c0727",
       "version_major": 2,
       "version_minor": 0
      },
      "text/plain": [
       "Processing Pages: 0it [00:00, ?it/s]"
      ]
     },
     "metadata": {},
     "output_type": "display_data"
    },
    {
     "data": {
      "application/vnd.jupyter.widget-view+json": {
       "model_id": "4a4c37e883284b41aa8bc04de7983b5d",
       "version_major": 2,
       "version_minor": 0
      },
      "text/plain": [
       "Processing Pages: 0it [00:00, ?it/s]"
      ]
     },
     "metadata": {},
     "output_type": "display_data"
    },
    {
     "name": "stderr",
     "output_type": "stream",
     "text": [
      "CropBox missing from /Page, defaulting to MediaBox\n",
      "CropBox missing from /Page, defaulting to MediaBox\n",
      "CropBox missing from /Page, defaulting to MediaBox\n",
      "CropBox missing from /Page, defaulting to MediaBox\n",
      "CropBox missing from /Page, defaulting to MediaBox\n",
      "CropBox missing from /Page, defaulting to MediaBox\n",
      "CropBox missing from /Page, defaulting to MediaBox\n",
      "CropBox missing from /Page, defaulting to MediaBox\n",
      "CropBox missing from /Page, defaulting to MediaBox\n",
      "CropBox missing from /Page, defaulting to MediaBox\n",
      "CropBox missing from /Page, defaulting to MediaBox\n",
      "CropBox missing from /Page, defaulting to MediaBox\n",
      "CropBox missing from /Page, defaulting to MediaBox\n",
      "CropBox missing from /Page, defaulting to MediaBox\n",
      "CropBox missing from /Page, defaulting to MediaBox\n",
      "CropBox missing from /Page, defaulting to MediaBox\n",
      "CropBox missing from /Page, defaulting to MediaBox\n",
      "CropBox missing from /Page, defaulting to MediaBox\n",
      "CropBox missing from /Page, defaulting to MediaBox\n",
      "CropBox missing from /Page, defaulting to MediaBox\n",
      "CropBox missing from /Page, defaulting to MediaBox\n",
      "CropBox missing from /Page, defaulting to MediaBox\n"
     ]
    },
    {
     "data": {
      "application/vnd.jupyter.widget-view+json": {
       "model_id": "619663caef5c4f0ea8cdce4b6c7064aa",
       "version_major": 2,
       "version_minor": 0
      },
      "text/plain": [
       "Processing Pages: 0it [00:00, ?it/s]"
      ]
     },
     "metadata": {},
     "output_type": "display_data"
    },
    {
     "data": {
      "application/vnd.jupyter.widget-view+json": {
       "model_id": "430f0bc02d4f424fb7dae7441e73fbcf",
       "version_major": 2,
       "version_minor": 0
      },
      "text/plain": [
       "Processing Pages: 0it [00:00, ?it/s]"
      ]
     },
     "metadata": {},
     "output_type": "display_data"
    },
    {
     "name": "stderr",
     "output_type": "stream",
     "text": [
      "CropBox missing from /Page, defaulting to MediaBox\n",
      "CropBox missing from /Page, defaulting to MediaBox\n",
      "CropBox missing from /Page, defaulting to MediaBox\n",
      "CropBox missing from /Page, defaulting to MediaBox\n",
      "CropBox missing from /Page, defaulting to MediaBox\n",
      "CropBox missing from /Page, defaulting to MediaBox\n",
      "CropBox missing from /Page, defaulting to MediaBox\n",
      "CropBox missing from /Page, defaulting to MediaBox\n",
      "CropBox missing from /Page, defaulting to MediaBox\n",
      "CropBox missing from /Page, defaulting to MediaBox\n",
      "CropBox missing from /Page, defaulting to MediaBox\n",
      "CropBox missing from /Page, defaulting to MediaBox\n",
      "CropBox missing from /Page, defaulting to MediaBox\n",
      "CropBox missing from /Page, defaulting to MediaBox\n",
      "CropBox missing from /Page, defaulting to MediaBox\n",
      "CropBox missing from /Page, defaulting to MediaBox\n",
      "CropBox missing from /Page, defaulting to MediaBox\n"
     ]
    },
    {
     "data": {
      "application/vnd.jupyter.widget-view+json": {
       "model_id": "fb025566d8784517b8107b9427a41243",
       "version_major": 2,
       "version_minor": 0
      },
      "text/plain": [
       "Processing Pages: 0it [00:00, ?it/s]"
      ]
     },
     "metadata": {},
     "output_type": "display_data"
    },
    {
     "name": "stderr",
     "output_type": "stream",
     "text": [
      "CropBox missing from /Page, defaulting to MediaBox\n",
      "CropBox missing from /Page, defaulting to MediaBox\n",
      "CropBox missing from /Page, defaulting to MediaBox\n",
      "CropBox missing from /Page, defaulting to MediaBox\n",
      "CropBox missing from /Page, defaulting to MediaBox\n",
      "CropBox missing from /Page, defaulting to MediaBox\n",
      "CropBox missing from /Page, defaulting to MediaBox\n",
      "CropBox missing from /Page, defaulting to MediaBox\n",
      "CropBox missing from /Page, defaulting to MediaBox\n",
      "CropBox missing from /Page, defaulting to MediaBox\n",
      "CropBox missing from /Page, defaulting to MediaBox\n",
      "CropBox missing from /Page, defaulting to MediaBox\n",
      "CropBox missing from /Page, defaulting to MediaBox\n",
      "CropBox missing from /Page, defaulting to MediaBox\n",
      "CropBox missing from /Page, defaulting to MediaBox\n",
      "CropBox missing from /Page, defaulting to MediaBox\n",
      "CropBox missing from /Page, defaulting to MediaBox\n",
      "CropBox missing from /Page, defaulting to MediaBox\n"
     ]
    },
    {
     "data": {
      "application/vnd.jupyter.widget-view+json": {
       "model_id": "bcc3dbe20ede46678120961c0c992d4c",
       "version_major": 2,
       "version_minor": 0
      },
      "text/plain": [
       "Processing Pages: 0it [00:00, ?it/s]"
      ]
     },
     "metadata": {},
     "output_type": "display_data"
    },
    {
     "name": "stderr",
     "output_type": "stream",
     "text": [
      "CropBox missing from /Page, defaulting to MediaBox\n",
      "CropBox missing from /Page, defaulting to MediaBox\n",
      "CropBox missing from /Page, defaulting to MediaBox\n",
      "CropBox missing from /Page, defaulting to MediaBox\n",
      "CropBox missing from /Page, defaulting to MediaBox\n",
      "CropBox missing from /Page, defaulting to MediaBox\n",
      "CropBox missing from /Page, defaulting to MediaBox\n",
      "CropBox missing from /Page, defaulting to MediaBox\n",
      "CropBox missing from /Page, defaulting to MediaBox\n",
      "CropBox missing from /Page, defaulting to MediaBox\n",
      "CropBox missing from /Page, defaulting to MediaBox\n",
      "CropBox missing from /Page, defaulting to MediaBox\n",
      "CropBox missing from /Page, defaulting to MediaBox\n",
      "CropBox missing from /Page, defaulting to MediaBox\n",
      "CropBox missing from /Page, defaulting to MediaBox\n",
      "CropBox missing from /Page, defaulting to MediaBox\n",
      "CropBox missing from /Page, defaulting to MediaBox\n",
      "CropBox missing from /Page, defaulting to MediaBox\n",
      "CropBox missing from /Page, defaulting to MediaBox\n",
      "CropBox missing from /Page, defaulting to MediaBox\n",
      "CropBox missing from /Page, defaulting to MediaBox\n",
      "CropBox missing from /Page, defaulting to MediaBox\n",
      "CropBox missing from /Page, defaulting to MediaBox\n",
      "CropBox missing from /Page, defaulting to MediaBox\n",
      "CropBox missing from /Page, defaulting to MediaBox\n",
      "CropBox missing from /Page, defaulting to MediaBox\n"
     ]
    },
    {
     "data": {
      "application/vnd.jupyter.widget-view+json": {
       "model_id": "3bb0e53b28584ca9b2f361a37040b057",
       "version_major": 2,
       "version_minor": 0
      },
      "text/plain": [
       "Processing Pages: 0it [00:00, ?it/s]"
      ]
     },
     "metadata": {},
     "output_type": "display_data"
    },
    {
     "name": "stderr",
     "output_type": "stream",
     "text": [
      "CropBox missing from /Page, defaulting to MediaBox\n",
      "CropBox missing from /Page, defaulting to MediaBox\n",
      "CropBox missing from /Page, defaulting to MediaBox\n",
      "CropBox missing from /Page, defaulting to MediaBox\n",
      "CropBox missing from /Page, defaulting to MediaBox\n",
      "CropBox missing from /Page, defaulting to MediaBox\n",
      "CropBox missing from /Page, defaulting to MediaBox\n",
      "CropBox missing from /Page, defaulting to MediaBox\n",
      "CropBox missing from /Page, defaulting to MediaBox\n",
      "CropBox missing from /Page, defaulting to MediaBox\n",
      "CropBox missing from /Page, defaulting to MediaBox\n",
      "CropBox missing from /Page, defaulting to MediaBox\n",
      "CropBox missing from /Page, defaulting to MediaBox\n",
      "CropBox missing from /Page, defaulting to MediaBox\n",
      "CropBox missing from /Page, defaulting to MediaBox\n",
      "CropBox missing from /Page, defaulting to MediaBox\n",
      "CropBox missing from /Page, defaulting to MediaBox\n",
      "CropBox missing from /Page, defaulting to MediaBox\n",
      "CropBox missing from /Page, defaulting to MediaBox\n",
      "CropBox missing from /Page, defaulting to MediaBox\n"
     ]
    },
    {
     "data": {
      "application/vnd.jupyter.widget-view+json": {
       "model_id": "d2691640794d4692b977d2f2dff91272",
       "version_major": 2,
       "version_minor": 0
      },
      "text/plain": [
       "Processing Pages: 0it [00:00, ?it/s]"
      ]
     },
     "metadata": {},
     "output_type": "display_data"
    },
    {
     "name": "stderr",
     "output_type": "stream",
     "text": [
      "CropBox missing from /Page, defaulting to MediaBox\n",
      "CropBox missing from /Page, defaulting to MediaBox\n",
      "CropBox missing from /Page, defaulting to MediaBox\n",
      "CropBox missing from /Page, defaulting to MediaBox\n",
      "CropBox missing from /Page, defaulting to MediaBox\n",
      "CropBox missing from /Page, defaulting to MediaBox\n",
      "CropBox missing from /Page, defaulting to MediaBox\n",
      "CropBox missing from /Page, defaulting to MediaBox\n",
      "CropBox missing from /Page, defaulting to MediaBox\n",
      "CropBox missing from /Page, defaulting to MediaBox\n",
      "CropBox missing from /Page, defaulting to MediaBox\n"
     ]
    },
    {
     "data": {
      "application/vnd.jupyter.widget-view+json": {
       "model_id": "d459bfd0eb864539a9288f255b610c84",
       "version_major": 2,
       "version_minor": 0
      },
      "text/plain": [
       "Processing Pages: 0it [00:00, ?it/s]"
      ]
     },
     "metadata": {},
     "output_type": "display_data"
    },
    {
     "name": "stderr",
     "output_type": "stream",
     "text": [
      "CropBox missing from /Page, defaulting to MediaBox\n",
      "CropBox missing from /Page, defaulting to MediaBox\n",
      "CropBox missing from /Page, defaulting to MediaBox\n",
      "CropBox missing from /Page, defaulting to MediaBox\n",
      "CropBox missing from /Page, defaulting to MediaBox\n",
      "CropBox missing from /Page, defaulting to MediaBox\n",
      "CropBox missing from /Page, defaulting to MediaBox\n",
      "CropBox missing from /Page, defaulting to MediaBox\n",
      "CropBox missing from /Page, defaulting to MediaBox\n",
      "CropBox missing from /Page, defaulting to MediaBox\n",
      "CropBox missing from /Page, defaulting to MediaBox\n",
      "CropBox missing from /Page, defaulting to MediaBox\n",
      "CropBox missing from /Page, defaulting to MediaBox\n",
      "CropBox missing from /Page, defaulting to MediaBox\n",
      "CropBox missing from /Page, defaulting to MediaBox\n",
      "CropBox missing from /Page, defaulting to MediaBox\n",
      "CropBox missing from /Page, defaulting to MediaBox\n",
      "CropBox missing from /Page, defaulting to MediaBox\n",
      "CropBox missing from /Page, defaulting to MediaBox\n",
      "CropBox missing from /Page, defaulting to MediaBox\n",
      "CropBox missing from /Page, defaulting to MediaBox\n",
      "CropBox missing from /Page, defaulting to MediaBox\n",
      "CropBox missing from /Page, defaulting to MediaBox\n"
     ]
    },
    {
     "data": {
      "application/vnd.jupyter.widget-view+json": {
       "model_id": "331ce51fcc554599b01bb2056b25772f",
       "version_major": 2,
       "version_minor": 0
      },
      "text/plain": [
       "Processing Pages: 0it [00:00, ?it/s]"
      ]
     },
     "metadata": {},
     "output_type": "display_data"
    },
    {
     "data": {
      "application/vnd.jupyter.widget-view+json": {
       "model_id": "e06ea761f49b4adbaeb1625ff2d3163f",
       "version_major": 2,
       "version_minor": 0
      },
      "text/plain": [
       "Processing Pages: 0it [00:00, ?it/s]"
      ]
     },
     "metadata": {},
     "output_type": "display_data"
    },
    {
     "name": "stderr",
     "output_type": "stream",
     "text": [
      "CropBox missing from /Page, defaulting to MediaBox\n",
      "CropBox missing from /Page, defaulting to MediaBox\n",
      "CropBox missing from /Page, defaulting to MediaBox\n",
      "CropBox missing from /Page, defaulting to MediaBox\n",
      "CropBox missing from /Page, defaulting to MediaBox\n",
      "CropBox missing from /Page, defaulting to MediaBox\n",
      "CropBox missing from /Page, defaulting to MediaBox\n",
      "CropBox missing from /Page, defaulting to MediaBox\n",
      "CropBox missing from /Page, defaulting to MediaBox\n",
      "CropBox missing from /Page, defaulting to MediaBox\n",
      "CropBox missing from /Page, defaulting to MediaBox\n",
      "CropBox missing from /Page, defaulting to MediaBox\n",
      "CropBox missing from /Page, defaulting to MediaBox\n",
      "CropBox missing from /Page, defaulting to MediaBox\n",
      "CropBox missing from /Page, defaulting to MediaBox\n",
      "CropBox missing from /Page, defaulting to MediaBox\n",
      "CropBox missing from /Page, defaulting to MediaBox\n",
      "CropBox missing from /Page, defaulting to MediaBox\n",
      "CropBox missing from /Page, defaulting to MediaBox\n",
      "CropBox missing from /Page, defaulting to MediaBox\n",
      "CropBox missing from /Page, defaulting to MediaBox\n",
      "CropBox missing from /Page, defaulting to MediaBox\n",
      "CropBox missing from /Page, defaulting to MediaBox\n",
      "CropBox missing from /Page, defaulting to MediaBox\n"
     ]
    },
    {
     "data": {
      "application/vnd.jupyter.widget-view+json": {
       "model_id": "794ebeee14b742eeacc2b86d5058c583",
       "version_major": 2,
       "version_minor": 0
      },
      "text/plain": [
       "Processing Pages: 0it [00:00, ?it/s]"
      ]
     },
     "metadata": {},
     "output_type": "display_data"
    },
    {
     "name": "stderr",
     "output_type": "stream",
     "text": [
      "CropBox missing from /Page, defaulting to MediaBox\n",
      "CropBox missing from /Page, defaulting to MediaBox\n",
      "CropBox missing from /Page, defaulting to MediaBox\n",
      "CropBox missing from /Page, defaulting to MediaBox\n",
      "CropBox missing from /Page, defaulting to MediaBox\n",
      "CropBox missing from /Page, defaulting to MediaBox\n",
      "CropBox missing from /Page, defaulting to MediaBox\n",
      "CropBox missing from /Page, defaulting to MediaBox\n",
      "CropBox missing from /Page, defaulting to MediaBox\n",
      "CropBox missing from /Page, defaulting to MediaBox\n",
      "CropBox missing from /Page, defaulting to MediaBox\n",
      "CropBox missing from /Page, defaulting to MediaBox\n",
      "CropBox missing from /Page, defaulting to MediaBox\n",
      "CropBox missing from /Page, defaulting to MediaBox\n",
      "CropBox missing from /Page, defaulting to MediaBox\n",
      "CropBox missing from /Page, defaulting to MediaBox\n",
      "CropBox missing from /Page, defaulting to MediaBox\n",
      "CropBox missing from /Page, defaulting to MediaBox\n",
      "CropBox missing from /Page, defaulting to MediaBox\n",
      "CropBox missing from /Page, defaulting to MediaBox\n",
      "CropBox missing from /Page, defaulting to MediaBox\n",
      "CropBox missing from /Page, defaulting to MediaBox\n",
      "CropBox missing from /Page, defaulting to MediaBox\n",
      "CropBox missing from /Page, defaulting to MediaBox\n",
      "CropBox missing from /Page, defaulting to MediaBox\n",
      "CropBox missing from /Page, defaulting to MediaBox\n",
      "CropBox missing from /Page, defaulting to MediaBox\n",
      "CropBox missing from /Page, defaulting to MediaBox\n",
      "CropBox missing from /Page, defaulting to MediaBox\n",
      "CropBox missing from /Page, defaulting to MediaBox\n",
      "CropBox missing from /Page, defaulting to MediaBox\n"
     ]
    },
    {
     "data": {
      "application/vnd.jupyter.widget-view+json": {
       "model_id": "131c0338c93748bca8a174b4e8ad9fab",
       "version_major": 2,
       "version_minor": 0
      },
      "text/plain": [
       "Processing Pages: 0it [00:00, ?it/s]"
      ]
     },
     "metadata": {},
     "output_type": "display_data"
    },
    {
     "name": "stderr",
     "output_type": "stream",
     "text": [
      "CropBox missing from /Page, defaulting to MediaBox\n",
      "CropBox missing from /Page, defaulting to MediaBox\n",
      "CropBox missing from /Page, defaulting to MediaBox\n",
      "CropBox missing from /Page, defaulting to MediaBox\n",
      "CropBox missing from /Page, defaulting to MediaBox\n",
      "CropBox missing from /Page, defaulting to MediaBox\n",
      "CropBox missing from /Page, defaulting to MediaBox\n",
      "CropBox missing from /Page, defaulting to MediaBox\n",
      "CropBox missing from /Page, defaulting to MediaBox\n",
      "CropBox missing from /Page, defaulting to MediaBox\n",
      "CropBox missing from /Page, defaulting to MediaBox\n",
      "CropBox missing from /Page, defaulting to MediaBox\n",
      "CropBox missing from /Page, defaulting to MediaBox\n",
      "CropBox missing from /Page, defaulting to MediaBox\n",
      "CropBox missing from /Page, defaulting to MediaBox\n",
      "CropBox missing from /Page, defaulting to MediaBox\n",
      "CropBox missing from /Page, defaulting to MediaBox\n",
      "CropBox missing from /Page, defaulting to MediaBox\n",
      "CropBox missing from /Page, defaulting to MediaBox\n",
      "CropBox missing from /Page, defaulting to MediaBox\n",
      "CropBox missing from /Page, defaulting to MediaBox\n",
      "CropBox missing from /Page, defaulting to MediaBox\n",
      "CropBox missing from /Page, defaulting to MediaBox\n"
     ]
    },
    {
     "data": {
      "application/vnd.jupyter.widget-view+json": {
       "model_id": "effdc12cc6cc44f6ba8f57c7f2664e6e",
       "version_major": 2,
       "version_minor": 0
      },
      "text/plain": [
       "Processing Pages: 0it [00:00, ?it/s]"
      ]
     },
     "metadata": {},
     "output_type": "display_data"
    },
    {
     "name": "stderr",
     "output_type": "stream",
     "text": [
      "CropBox missing from /Page, defaulting to MediaBox\n",
      "CropBox missing from /Page, defaulting to MediaBox\n",
      "CropBox missing from /Page, defaulting to MediaBox\n",
      "CropBox missing from /Page, defaulting to MediaBox\n",
      "CropBox missing from /Page, defaulting to MediaBox\n",
      "CropBox missing from /Page, defaulting to MediaBox\n",
      "CropBox missing from /Page, defaulting to MediaBox\n",
      "CropBox missing from /Page, defaulting to MediaBox\n",
      "CropBox missing from /Page, defaulting to MediaBox\n",
      "CropBox missing from /Page, defaulting to MediaBox\n",
      "CropBox missing from /Page, defaulting to MediaBox\n",
      "CropBox missing from /Page, defaulting to MediaBox\n",
      "CropBox missing from /Page, defaulting to MediaBox\n",
      "CropBox missing from /Page, defaulting to MediaBox\n",
      "CropBox missing from /Page, defaulting to MediaBox\n",
      "CropBox missing from /Page, defaulting to MediaBox\n",
      "CropBox missing from /Page, defaulting to MediaBox\n",
      "CropBox missing from /Page, defaulting to MediaBox\n",
      "CropBox missing from /Page, defaulting to MediaBox\n",
      "CropBox missing from /Page, defaulting to MediaBox\n",
      "CropBox missing from /Page, defaulting to MediaBox\n"
     ]
    },
    {
     "data": {
      "application/vnd.jupyter.widget-view+json": {
       "model_id": "bc3cfc6375f14e889312e33881d58d2a",
       "version_major": 2,
       "version_minor": 0
      },
      "text/plain": [
       "Processing Pages: 0it [00:00, ?it/s]"
      ]
     },
     "metadata": {},
     "output_type": "display_data"
    }
   ],
   "source": [
    "# PATH_NOTES / preprocessing / \"nom_note\" / texte\n",
    "prepro_dir = 'preprocessing'\n",
    "os.makedirs(os.path.join(PATH_NOTES, prepro_dir), exist_ok=True)\n",
    "texte_dir = 'texte'\n",
    "\n",
    "for chemin, nom, numero in tqdm(zip(chemin_notes, nom_notes, numero_notes), desc=\"Processing Notes\"):    \n",
    "    pdf = pdfplumber.open(chemin)\n",
    "    note_dir = f\"{nom.split('.')[0]}\"\n",
    "    page_dir = os.path.join(PATH_NOTES, prepro_dir, note_dir, texte_dir)\n",
    "    os.makedirs(page_dir, exist_ok=True)\n",
    "\n",
    "    for idx, page in tqdm(enumerate(pdf.pages), desc=\"Processing Pages\", leave=False):\n",
    "        text = page.extract_text()\n",
    "        text_clean = remove_occurences_3(text)\n",
    "        with open(f\"{page_dir}/page_{idx+1}.txt\", \"w\", encoding='utf-8') as f:\n",
    "            f.write(text_clean)\n",
    "\n"
   ]
  },
  {
   "cell_type": "code",
   "execution_count": 6,
   "id": "0ef77861",
   "metadata": {},
   "outputs": [
    {
     "name": "stdout",
     "output_type": "stream",
     "text": [
      "G:\\Esp-mission-Patrimoine\\documentLibrary\\Habitat_Amenagement\\OBSERVATOIRE\\02_ACTIVITES\\ETUDES\\ETUDES_ADIL\\NOTES\\preprocessing\\08_Loyers_2014\n",
      "27\n",
      "G:\\Esp-mission-Patrimoine\\documentLibrary\\Habitat_Amenagement\\OBSERVATOIRE\\02_ACTIVITES\\ETUDES\\ETUDES_ADIL\\NOTES\\preprocessing\\04_Loyers_2013\n",
      "12\n",
      "G:\\Esp-mission-Patrimoine\\documentLibrary\\Habitat_Amenagement\\OBSERVATOIRE\\02_ACTIVITES\\ETUDES\\ETUDES_ADIL\\NOTES\\preprocessing\\30_airbnb_DIAG_2024\n",
      "21\n",
      "G:\\Esp-mission-Patrimoine\\documentLibrary\\Habitat_Amenagement\\OBSERVATOIRE\\02_ACTIVITES\\ETUDES\\ETUDES_ADIL\\NOTES\\preprocessing\\05_Accession_2014\n",
      "16\n",
      "G:\\Esp-mission-Patrimoine\\documentLibrary\\Habitat_Amenagement\\OBSERVATOIRE\\02_ACTIVITES\\ETUDES\\ETUDES_ADIL\\NOTES\\preprocessing\\29_Loyers_2024\n",
      "23\n",
      "G:\\Esp-mission-Patrimoine\\documentLibrary\\Habitat_Amenagement\\OBSERVATOIRE\\02_ACTIVITES\\ETUDES\\ETUDES_ADIL\\NOTES\\preprocessing\\24_Accession_2021\n",
      "11\n",
      "G:\\Esp-mission-Patrimoine\\documentLibrary\\Habitat_Amenagement\\OBSERVATOIRE\\02_ACTIVITES\\ETUDES\\ETUDES_ADIL\\NOTES\\preprocessing\\19_Loyers_2019\n",
      "20\n",
      "G:\\Esp-mission-Patrimoine\\documentLibrary\\Habitat_Amenagement\\OBSERVATOIRE\\02_ACTIVITES\\ETUDES\\ETUDES_ADIL\\NOTES\\preprocessing\\15_Loyers_2017\n",
      "33\n",
      "G:\\Esp-mission-Patrimoine\\documentLibrary\\Habitat_Amenagement\\OBSERVATOIRE\\02_ACTIVITES\\ETUDES\\ETUDES_ADIL\\NOTES\\preprocessing\\14_MenagesModestes_2017\n",
      "27\n",
      "G:\\Esp-mission-Patrimoine\\documentLibrary\\Habitat_Amenagement\\OBSERVATOIRE\\02_ACTIVITES\\ETUDES\\ETUDES_ADIL\\NOTES\\preprocessing\\01_La connaissance des besoins en logement\n",
      "23\n",
      "G:\\Esp-mission-Patrimoine\\documentLibrary\\Habitat_Amenagement\\OBSERVATOIRE\\02_ACTIVITES\\ETUDES\\ETUDES_ADIL\\NOTES\\preprocessing\\27_Accesion_2022\n",
      "24\n",
      "G:\\Esp-mission-Patrimoine\\documentLibrary\\Habitat_Amenagement\\OBSERVATOIRE\\02_ACTIVITES\\ETUDES\\ETUDES_ADIL\\NOTES\\preprocessing\\11_Loyers_2015\n",
      "30\n",
      "G:\\Esp-mission-Patrimoine\\documentLibrary\\Habitat_Amenagement\\OBSERVATOIRE\\02_ACTIVITES\\ETUDES\\ETUDES_ADIL\\NOTES\\preprocessing\\25_MenagesModestes_2022\n",
      "23\n",
      "G:\\Esp-mission-Patrimoine\\documentLibrary\\Habitat_Amenagement\\OBSERVATOIRE\\02_ACTIVITES\\ETUDES\\ETUDES_ADIL\\NOTES\\preprocessing\\07_MenagesModestes_2014\n",
      "15\n",
      "G:\\Esp-mission-Patrimoine\\documentLibrary\\Habitat_Amenagement\\OBSERVATOIRE\\02_ACTIVITES\\ETUDES\\ETUDES_ADIL\\NOTES\\preprocessing\\21_Accession_2019\n",
      "18\n",
      "G:\\Esp-mission-Patrimoine\\documentLibrary\\Habitat_Amenagement\\OBSERVATOIRE\\02_ACTIVITES\\ETUDES\\ETUDES_ADIL\\NOTES\\preprocessing\\20_MenagesModestes_2019\n",
      "17\n",
      "G:\\Esp-mission-Patrimoine\\documentLibrary\\Habitat_Amenagement\\OBSERVATOIRE\\02_ACTIVITES\\ETUDES\\ETUDES_ADIL\\NOTES\\preprocessing\\13_Loyers_2016\n",
      "27\n",
      "G:\\Esp-mission-Patrimoine\\documentLibrary\\Habitat_Amenagement\\OBSERVATOIRE\\02_ACTIVITES\\ETUDES\\ETUDES_ADIL\\NOTES\\preprocessing\\18_Loyers_2018\n",
      "22\n",
      "G:\\Esp-mission-Patrimoine\\documentLibrary\\Habitat_Amenagement\\OBSERVATOIRE\\02_ACTIVITES\\ETUDES\\ETUDES_ADIL\\NOTES\\preprocessing\\02_L’evolution du parc de logements Heraultais\n",
      "6\n",
      "G:\\Esp-mission-Patrimoine\\documentLibrary\\Habitat_Amenagement\\OBSERVATOIRE\\02_ACTIVITES\\ETUDES\\ETUDES_ADIL\\NOTES\\preprocessing\\12_Accession_2016\n",
      "29\n",
      "G:\\Esp-mission-Patrimoine\\documentLibrary\\Habitat_Amenagement\\OBSERVATOIRE\\02_ACTIVITES\\ETUDES\\ETUDES_ADIL\\NOTES\\preprocessing\\6_Les mutations du paysage Héraultais\n",
      "9\n",
      "G:\\Esp-mission-Patrimoine\\documentLibrary\\Habitat_Amenagement\\OBSERVATOIRE\\02_ACTIVITES\\ETUDES\\ETUDES_ADIL\\NOTES\\preprocessing\\16_Accession_2018\n",
      "34\n",
      "G:\\Esp-mission-Patrimoine\\documentLibrary\\Habitat_Amenagement\\OBSERVATOIRE\\02_ACTIVITES\\ETUDES\\ETUDES_ADIL\\NOTES\\preprocessing\\03_MenagesModestes_2013\n",
      "10\n",
      "G:\\Esp-mission-Patrimoine\\documentLibrary\\Habitat_Amenagement\\OBSERVATOIRE\\02_ACTIVITES\\ETUDES\\ETUDES_ADIL\\NOTES\\preprocessing\\09_Accession_2015\n",
      "32\n",
      "G:\\Esp-mission-Patrimoine\\documentLibrary\\Habitat_Amenagement\\OBSERVATOIRE\\02_ACTIVITES\\ETUDES\\ETUDES_ADIL\\NOTES\\preprocessing\\26_Loyers_2022\n",
      "13\n",
      "G:\\Esp-mission-Patrimoine\\documentLibrary\\Habitat_Amenagement\\OBSERVATOIRE\\02_ACTIVITES\\ETUDES\\ETUDES_ADIL\\NOTES\\preprocessing\\17_MenagesModestes_2018\n",
      "22\n",
      "G:\\Esp-mission-Patrimoine\\documentLibrary\\Habitat_Amenagement\\OBSERVATOIRE\\02_ACTIVITES\\ETUDES\\ETUDES_ADIL\\NOTES\\preprocessing\\23_MenagesModestes_2020\n",
      "20\n",
      "G:\\Esp-mission-Patrimoine\\documentLibrary\\Habitat_Amenagement\\OBSERVATOIRE\\02_ACTIVITES\\ETUDES\\ETUDES_ADIL\\NOTES\\preprocessing\\22_Loyers_2020\n",
      "26\n",
      "G:\\Esp-mission-Patrimoine\\documentLibrary\\Habitat_Amenagement\\OBSERVATOIRE\\02_ACTIVITES\\ETUDES\\ETUDES_ADIL\\NOTES\\preprocessing\\28_MenagesModestes_2023\n",
      "31\n",
      "G:\\Esp-mission-Patrimoine\\documentLibrary\\Habitat_Amenagement\\OBSERVATOIRE\\02_ACTIVITES\\ETUDES\\ETUDES_ADIL\\NOTES\\preprocessing\\10_MenagesModestes_2015\n",
      "29\n"
     ]
    }
   ],
   "source": [
    "os.path.join(PATH_NOTES, prepro_dir, note_dir, texte_dir)\n",
    "for note in glob(os.path.join(PATH_NOTES, prepro_dir, '*')):\n",
    "    print(note)\n",
    "    print(len(glob(os.path.join(note, texte_dir, '*.txt'))))"
   ]
  }
 ],
 "metadata": {
  "kernelspec": {
   "display_name": "venv",
   "language": "python",
   "name": "python3"
  },
  "language_info": {
   "codemirror_mode": {
    "name": "ipython",
    "version": 3
   },
   "file_extension": ".py",
   "mimetype": "text/x-python",
   "name": "python",
   "nbconvert_exporter": "python",
   "pygments_lexer": "ipython3",
   "version": "3.12.3"
  }
 },
 "nbformat": 4,
 "nbformat_minor": 5
}
