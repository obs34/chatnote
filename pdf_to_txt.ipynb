{
 "cells": [
  {
   "cell_type": "code",
   "execution_count": 1,
   "id": "8295d172",
   "metadata": {},
   "outputs": [],
   "source": [
    "import fitz\n",
    "from glob import *\n",
    "import os\n",
    "import pdfplumber\n",
    "import time\n",
    "from tqdm.notebook import tqdm"
   ]
  },
  {
   "cell_type": "code",
   "execution_count": 2,
   "id": "c24d731a",
   "metadata": {},
   "outputs": [
    {
     "data": {
      "text/plain": [
       "(['G:\\\\Esp-mission-Patrimoine\\\\documentLibrary\\\\Habitat_Amenagement\\\\OBSERVATOIRE\\\\02_ACTIVITES\\\\ETUDES\\\\ETUDES_ADIL\\\\NOTES\\\\29_Loyers_2024.pdf',\n",
       "  'G:\\\\Esp-mission-Patrimoine\\\\documentLibrary\\\\Habitat_Amenagement\\\\OBSERVATOIRE\\\\02_ACTIVITES\\\\ETUDES\\\\ETUDES_ADIL\\\\NOTES\\\\30_airbnb_DIAG_2024.pdf'],\n",
       " ['29_Loyers_2024', '30_airbnb_DIAG_2024'],\n",
       " [29, 30])"
      ]
     },
     "execution_count": 2,
     "metadata": {},
     "output_type": "execute_result"
    }
   ],
   "source": [
    "PATH_NOTES = r\"G:\\Esp-mission-Patrimoine\\documentLibrary\\Habitat_Amenagement\\OBSERVATOIRE\\02_ACTIVITES\\ETUDES\\ETUDES_ADIL\\NOTES\"\n",
    "chemin_notes = sorted(glob(PATH_NOTES + r\"\\*.pdf\", ), key=lambda x: int(x.split(\"\\\\\")[-1].split(\"_\")[0]))\n",
    "# Pour le moment\n",
    "chemin_notes.remove('G:\\\\Esp-mission-Patrimoine\\\\documentLibrary\\\\Habitat_Amenagement\\\\OBSERVATOIRE\\\\02_ACTIVITES\\\\ETUDES\\\\ETUDES_ADIL\\\\NOTES\\\\30_airbnb_JURIDIQUE_2024.pdf')\n",
    "nom_notes = [chemin.split('\\\\')[-1].split('.')[0] for chemin in chemin_notes]\n",
    "numero_notes = [int(chemin.split('\\\\')[-1].split(\"_\")[0]) for chemin in chemin_notes]\n",
    "chemin_notes[-2:], nom_notes[-2:], numero_notes[-2:]"
   ]
  },
  {
   "cell_type": "code",
   "execution_count": 3,
   "id": "100562e2",
   "metadata": {},
   "outputs": [],
   "source": [
    "def remove_occurences_3(text):\n",
    "    text_copy = text\n",
    "    li = []\n",
    "    # Trouve les suites de charactères à 3 occurences et rajoute les indices dans li (pas le premier)\n",
    "    for i, _ in enumerate(text_copy[:-2]):\n",
    "        if text_copy[i:i+3] == text_copy[i]*3:\n",
    "            j=1\n",
    "            while text_copy[i+j] == text_copy[i]:\n",
    "                j += 1\n",
    "                li.append(i+j-1)\n",
    "\n",
    "    # Supprime les indices qui sont au milieu d'une suite\n",
    "    lb = set(li)\n",
    "    for el in set(li):\n",
    "        if el + 1 in set(li) and el - 1 in set(li):\n",
    "            lb.remove(el)\n",
    "\n",
    "    # Supprime les suites\n",
    "    lc = sorted(list(lb))\n",
    "    for i in range(0, len(lc), 2):\n",
    "        text_copy = text_copy.replace(text[lc[i]:lc[i+1]+1], '')\n",
    "        # print(text[lc[i]:lc[i+1]+1], 'remplacée par \"\"')\n",
    "    \n",
    "    return text_copy"
   ]
  },
  {
   "cell_type": "code",
   "execution_count": 3,
   "id": "3f475e2d",
   "metadata": {},
   "outputs": [],
   "source": [
    "prepro_dir = 'preprocessing'\n",
    "os.makedirs(os.path.join(PATH_NOTES, prepro_dir), exist_ok=True)\n",
    "texte_dir = 'texte'"
   ]
  },
  {
   "cell_type": "code",
   "execution_count": null,
   "id": "b878f4a5",
   "metadata": {},
   "outputs": [],
   "source": [
    "# PATH_NOTES / preprocessing / \"nom_note\" / texte\n",
    "for chemin, nom, numero in tqdm(zip(chemin_notes, nom_notes, numero_notes), desc=\"Processing Notes\"):    \n",
    "    pdf = pdfplumber.open(chemin)\n",
    "    note_dir = f\"{nom.split('.')[0]}\"\n",
    "    page_dir = os.path.join(PATH_NOTES, prepro_dir, note_dir, texte_dir)\n",
    "    os.makedirs(page_dir, exist_ok=True)\n",
    "\n",
    "    for idx, page in tqdm(enumerate(pdf.pages), desc=\"Processing Pages\", leave=False):\n",
    "        text = page.extract_text()\n",
    "        text_clean = remove_occurences_3(text)\n",
    "        with open(f\"{page_dir}/page_{idx+1}.txt\", \"w\", encoding='utf-8') as f:\n",
    "            f.write(text_clean)\n"
   ]
  },
  {
   "cell_type": "code",
   "execution_count": 43,
   "id": "1796aea2",
   "metadata": {},
   "outputs": [
    {
     "name": "stdout",
     "output_type": "stream",
     "text": [
      "num note : 08 nb page.txt : 27 vrai nb page : 27\n",
      "num note : 04 nb page.txt : 12 vrai nb page : 12\n",
      "num note : 30 nb page.txt : 21 vrai nb page : 21\n",
      "num note : 05 nb page.txt : 16 vrai nb page : 16\n",
      "num note : 29 nb page.txt : 23 vrai nb page : 23\n",
      "num note : 24 nb page.txt : 11 vrai nb page : 11\n",
      "num note : 19 nb page.txt : 20 vrai nb page : 20\n",
      "num note : 15 nb page.txt : 33 vrai nb page : 33\n",
      "num note : 14 nb page.txt : 27 vrai nb page : 27\n",
      "num note : 01 nb page.txt : 23 vrai nb page : 23\n",
      "num note : 27 nb page.txt : 24 vrai nb page : 24\n",
      "num note : 11 nb page.txt : 30 vrai nb page : 30\n",
      "num note : 25 nb page.txt : 23 vrai nb page : 23\n",
      "num note : 07 nb page.txt : 15 vrai nb page : 15\n",
      "num note : 21 nb page.txt : 18 vrai nb page : 18\n",
      "num note : 20 nb page.txt : 17 vrai nb page : 17\n",
      "num note : 13 nb page.txt : 27 vrai nb page : 27\n",
      "num note : 18 nb page.txt : 22 vrai nb page : 22\n",
      "num note : 02 nb page.txt : 6 vrai nb page : 6\n",
      "num note : 12 nb page.txt : 29 vrai nb page : 29\n",
      "num note : 16 nb page.txt : 34 vrai nb page : 34\n",
      "num note : 03 nb page.txt : 10 vrai nb page : 10\n",
      "num note : 09 nb page.txt : 32 vrai nb page : 32\n",
      "num note : 26 nb page.txt : 13 vrai nb page : 13\n",
      "num note : 17 nb page.txt : 22 vrai nb page : 22\n",
      "num note : 06 nb page.txt : 9 vrai nb page : 9\n",
      "num note : 23 nb page.txt : 20 vrai nb page : 20\n",
      "num note : 22 nb page.txt : 26 vrai nb page : 26\n",
      "num note : 28 nb page.txt : 31 vrai nb page : 31\n",
      "num note : 10 nb page.txt : 29 vrai nb page : 29\n"
     ]
    }
   ],
   "source": [
    "# VERIF nombre de pages\n",
    "with open(os.path.join(PATH_NOTES, prepro_dir, 'meta/nb_page.txt'), \"r\") as f:\n",
    "    texte = f.readlines()\n",
    "    texte_c = [(line.split(' ')[0],int(line.split(' ')[-1])) for line in texte]\n",
    "    dict_nb_page = {line.split(' ')[0]:int(line.split(' ')[-1]) for line in texte}\n",
    "\n",
    "for note in glob(os.path.join(PATH_NOTES, prepro_dir, '*')):\n",
    "    if 'meta' in note:\n",
    "        continue\n",
    "    numero_notes = note.split('\\\\')[-1].split(\"_\")[0]\n",
    "    print(\"num note :\", numero_notes, \"nb page.txt :\", len(glob(os.path.join(note, texte_dir, '*.txt'))), \"vrai nb page :\", dict_nb_page[numero_notes])\n",
    "    if dict_nb_page[numero_notes] != len(glob(os.path.join(note, texte_dir, '*.txt'))):\n",
    "        print('*'*10)\n",
    "        print(\"!!! Erreur dans le nombre de pages pour la note :\", numero_notes)\n",
    "        print(\"nb page.txt :\", len(glob(os.path.join(note, texte_dir, '*.txt'))), \"vrai nb page :\", dict_nb_page[numero_notes])\n",
    "        print('*'*10)"
   ]
  },
  {
   "cell_type": "code",
   "execution_count": null,
   "id": "3ec851a8",
   "metadata": {},
   "outputs": [],
   "source": [
    "# VERIF pages non vides\n",
    "for note_dir_path in glob(os.path.join(PATH_NOTES, prepro_dir, '*')):\n",
    "    note_basename = os.path.basename(note_dir_path)\n",
    "\n",
    "    if 'meta' in note_basename:\n",
    "        continue\n",
    "\n",
    "    numero_notes = note_basename.split(\"_\")[0]\n",
    "    print(f\"NOTE {numero_notes}\") # Using f-string for cleaner formatting\n",
    "\n",
    "    for page_file_path in glob(os.path.join(note_dir_path, texte_dir, '*.txt')):\n",
    "        page_filename = os.path.basename(page_file_path)\n",
    "        page_deleted_this_iteration = False # Flag to track if the current page gets deleted\n",
    "\n",
    "        try:\n",
    "            with open(page_file_path, \"r\", encoding='utf-8') as f:\n",
    "                texte = f.read()\n",
    "        except IOError as e:\n",
    "            print(f\"Error reading file {page_filename}: {e}\")\n",
    "            continue # Skip to the next page\n",
    "\n",
    "        if len(texte) < 10:\n",
    "            print('*'*10)\n",
    "            print(f\"!!! Erreur dans le nombre de pages pour la note : {numero_notes}\")\n",
    "            print(f\"page : {page_filename}\")\n",
    "            print(f\"texte : {texte}\")\n",
    "            print('*'*10)\n",
    "\n",
    "            # Ask for user confirmation and process immediately\n",
    "            # .strip() handles accidental spaces, .lower() makes comparison case-insensitive\n",
    "            choix_suppression = input(\"Voulez-vous supprimer la page ? (o/n) : \").strip().lower()\n",
    "            if choix_suppression == 'o':\n",
    "                try:\n",
    "                    os.remove(page_file_path)\n",
    "                    print(f\"Page '{page_filename}' supprimée.\")\n",
    "                    page_deleted_this_iteration = True\n",
    "                except OSError as e:\n",
    "                    print(f\"Error deleting file {page_filename}: {e}\")\n",
    "                    # If deletion fails, it's considered not deleted for the next message\n",
    "            # No explicit else here for \"page non supprimée\" yet,\n",
    "            # it will be handled by the final check.\n",
    "\n",
    "        # This final check maintains the original logic:\n",
    "        # \"page non supprimée\" is printed if:\n",
    "        # 1. The page was long (len(texte) >= 10)\n",
    "        # 2. The page was short, but the user chose not to delete it.\n",
    "        # 3. The page was short, user chose to delete, but deletion failed.\n",
    "        if choix_suppression != 'o' and not page_deleted_this_iteration:\n",
    "            print(f\"Page '{page_filename}' non supprimée.\")"
   ]
  }
 ],
 "metadata": {
  "kernelspec": {
   "display_name": "venv",
   "language": "python",
   "name": "python3"
  },
  "language_info": {
   "codemirror_mode": {
    "name": "ipython",
    "version": 3
   },
   "file_extension": ".py",
   "mimetype": "text/x-python",
   "name": "python",
   "nbconvert_exporter": "python",
   "pygments_lexer": "ipython3",
   "version": "3.12.3"
  }
 },
 "nbformat": 4,
 "nbformat_minor": 5
}
