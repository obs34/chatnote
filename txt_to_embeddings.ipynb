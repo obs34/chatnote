{
 "cells": [
  {
   "cell_type": "code",
   "execution_count": 3,
   "id": "de8c68f5",
   "metadata": {},
   "outputs": [],
   "source": [
    "import glob\n",
    "import os\n",
    "\n",
    "# import pdfplumber\n",
    "# from tqdm import tqdm\n",
    "# from sentence_transformers import SentenceTransformer\n",
    "# import psycopg2\n",
    "# from psycopg2.extras import execute_values"
   ]
  },
  {
   "cell_type": "code",
   "execution_count": null,
   "id": "4a9b1469",
   "metadata": {},
   "outputs": [],
   "source": [
    "# lancer postgresql : sudo service postgresql start\n",
    "# vérifier le statut de postgresql : sudo service postgresql status\n",
    "# se connecter au serveur postgresql dans WSL : sudo -u postgres psql\n",
    "# liste des base de données : SELECT datname FROM pg_database;\n",
    "# créer une bdd : CREATE DATABASE chatnote TEMPLATE template0;\n",
    "# se connecter à la bdd : \\c chatnote\n",
    "# créer l'extension pgvector : CREATE EXTENSION vector;\n",
    "# liste des extensions : \\dx\n"
   ]
  },
  {
   "cell_type": "code",
   "execution_count": null,
   "id": "c14ef30d",
   "metadata": {},
   "outputs": [],
   "source": [
    "# Se connecter avec pgAdmin 4 depuis Windows à PostgreSQL dans WSL :\n",
    "\n",
    "# 1. Assurez-vous que PostgreSQL dans WSL écoute les connexions externes (pas seulement localhost dans WSL) :\n",
    "# Modifiez postgresql.conf dans WSL (généralement /etc/postgresql/16/main/postgresql.conf): Changez listen_addresses = 'localhost' en listen_addresses = '*'.\n",
    "# Modifiez pg_hba.conf dans WSL (généralement /etc/postgresql/16/main/pg_hba.conf) pour autoriser les connexions depuis votre IP Windows ou le réseau WSL. Pour commencer, vous pouvez ajouter (soyez prudent avec trust en production) :\n",
    "# host    all             all             0.0.0.0/0            md5  # Ou scram-sha-256\n",
    "# # Ou plus spécifiquement pour l'interface réseau de WSL\n",
    "# host    all             all             <IP_de_votre_adaptateur_WSL> trust # Moins sécurisé, préférez md5 ou scram-sha-256 avec mot de passe\n",
    "# Trouvez l'IP de votre adaptateur WSL en exécutant ip addr dans WSL (cherchez l'interface eth0 ou similaire).\n",
    "# Redémarrez le service PostgreSQL dans WSL : sudo service postgresql restart\n",
    "\n",
    "# 2. Dans pgAdmin 4 (sur Windows) :\n",
    "# Créez une nouvelle connexion serveur.\n",
    "# Nom d'hôte/adresse : Utilisez l'adresse IP de votre distribution WSL. Vous pouvez la trouver en exécutant hostname -I dans votre terminal WSL. Si cela ne fonctionne pas directement, localhost peut parfois fonctionner si le port forwarding est bien configuré par WSL, mais l'IP explicite est plus fiable.\n",
    "# Port : 5432 (sauf si vous l'avez changé).\n",
    "# Base de données de maintenance : postgres ou le nom de votre base de données.\n",
    "# Nom d'utilisateur / Mot de passe : Ceux de votre utilisateur PostgreSQL configuré dans WSL."
   ]
  },
  {
   "cell_type": "code",
   "execution_count": 13,
   "id": "c6a3c03b",
   "metadata": {},
   "outputs": [],
   "source": [
    "PATH_NOTES_wsl = r\"/mnt/g/Esp-mission-Patrimoine/documentLibrary/Habitat_Amenagement/OBSERVATOIRE/02_ACTIVITES/ETUDES/ETUDES_ADIL/NOTES\"\n",
    "prepro_dir = 'preprocessing'\n",
    "nom_notes = [note.split('/')[-1].split(\".\")[0] for note in glob.glob(os.path.join(PATH_NOTES_wsl, prepro_dir, '*')) if 'meta' not in note]\n",
    "texte_dir = 'texte'"
   ]
  },
  {
   "cell_type": "code",
   "execution_count": 14,
   "id": "9ac66c6a",
   "metadata": {},
   "outputs": [
    {
     "data": {
      "text/plain": [
       "[]"
      ]
     },
     "execution_count": 14,
     "metadata": {},
     "output_type": "execute_result"
    }
   ],
   "source": [
    "nom_notes"
   ]
  },
  {
   "cell_type": "code",
   "execution_count": null,
   "id": "bd9ea82b",
   "metadata": {},
   "outputs": [],
   "source": [
    "# Load a pre-trained model\n",
    "model = SentenceTransformer('all-MiniLM-L6-v2')\n",
    "\n",
    "# Connect to PostgreSQL\n",
    "conn = psycopg2.connect(\n",
    "    dbname=\"chatnote\",\n",
    "    user=\"postgres\",\n",
    "    password=\"\",\n",
    "    host=\"localhost\",\n",
    "    port=\"5432\"\n",
    ")\n",
    "\n",
    "# Create a table to store embeddings with metadata\n",
    "with conn.cursor() as cursor:\n",
    "    cursor.execute(\"\"\"\n",
    "    CREATE TABLE IF NOT EXISTS embeddings (\n",
    "        id SERIAL PRIMARY KEY,\n",
    "        note_name TEXT,\n",
    "        page_number INTEGER,\n",
    "        text TEXT,\n",
    "        embedding vector(384)  -- Adjust the dimension based on your model\n",
    "    )\n",
    "    \"\"\")\n",
    "    conn.commit()\n",
    "\n",
    "# Assuming PATH_NOTES, chemin_notes, nom_notes, and numero_notes are defined\n",
    "prepro_dir = 'preprocessing'\n",
    "os.makedirs(os.path.join(PATH_NOTES, prepro_dir), exist_ok=True)\n",
    "texte_dir = 'texte'\n",
    "\n",
    "for chemin, nom, numero in tqdm(zip(chemin_notes, nom_notes, numero_notes), desc=\"Processing Notes\"):\n",
    "    pdf = pdfplumber.open(chemin)\n",
    "    note_dir = f\"{nom.split('.')[0]}\"\n",
    "    page_dir = os.path.join(PATH_NOTES, prepro_dir, note_dir, texte_dir)\n",
    "    os.makedirs(page_dir, exist_ok=True)\n",
    "\n",
    "    for idx, page in tqdm(enumerate(pdf.pages), desc=\"Processing Pages\", leave=False):\n",
    "        text = page.extract_text()\n",
    "        text_clean = remove_occurences_3(text)\n",
    "\n",
    "        # Generate embeddings\n",
    "        embedding = model.encode(text_clean)\n",
    "\n",
    "        # Insert embeddings and metadata into the table\n",
    "        with conn.cursor() as cursor:\n",
    "            execute_values(\n",
    "                cursor,\n",
    "                \"INSERT INTO embeddings (document_name, page_number, text, embedding) VALUES %s\",\n",
    "                [(nom, idx + 1, text_clean, embedding.tolist())]\n",
    "            )\n",
    "            conn.commit()\n",
    "\n",
    "        # Optionally, save the cleaned text to a file\n",
    "        with open(f\"{page_dir}/page_{idx+1}.txt\", \"w\", encoding='utf-8') as f:\n",
    "            f.write(text_clean)\n",
    "\n",
    "# Close the connection\n",
    "conn.close()\n"
   ]
  }
 ],
 "metadata": {
  "kernelspec": {
   "display_name": "env",
   "language": "python",
   "name": "python3"
  },
  "language_info": {
   "codemirror_mode": {
    "name": "ipython",
    "version": 3
   },
   "file_extension": ".py",
   "mimetype": "text/x-python",
   "name": "python",
   "nbconvert_exporter": "python",
   "pygments_lexer": "ipython3",
   "version": "3.12.3"
  }
 },
 "nbformat": 4,
 "nbformat_minor": 5
}
